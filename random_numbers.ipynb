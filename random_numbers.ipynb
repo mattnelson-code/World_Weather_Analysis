{
 "cells": [
  {
   "cell_type": "code",
   "execution_count": 1,
   "id": "a77ad69a",
   "metadata": {},
   "outputs": [],
   "source": [
    "# Import the random module.\n",
    "import random"
   ]
  },
  {
   "cell_type": "code",
   "execution_count": 2,
   "id": "846f47c3",
   "metadata": {},
   "outputs": [
    {
     "data": {
      "text/plain": [
       "-46"
      ]
     },
     "execution_count": 2,
     "metadata": {},
     "output_type": "execute_result"
    }
   ],
   "source": [
    "# Use randint() function to find a latitude between -90 and 90\n",
    "random.randint(-90, 90)"
   ]
  },
  {
   "cell_type": "code",
   "execution_count": 3,
   "id": "61993182",
   "metadata": {},
   "outputs": [
    {
     "data": {
      "text/plain": [
       "0.88612681050796"
      ]
     },
     "execution_count": 3,
     "metadata": {},
     "output_type": "execute_result"
    }
   ],
   "source": [
    "# Use random() function\n",
    "random.random()"
   ]
  },
  {
   "cell_type": "code",
   "execution_count": 4,
   "id": "8f7c2508",
   "metadata": {},
   "outputs": [
    {
     "data": {
      "text/plain": [
       "-71.51759784603047"
      ]
     },
     "execution_count": 4,
     "metadata": {},
     "output_type": "execute_result"
    }
   ],
   "source": [
    "# Use randint() with random() to get a latitude between -90 & 90 with a decimal \n",
    "random_number = random.randint(-90, 89) + random.random()\n",
    "random_number"
   ]
  },
  {
   "cell_type": "code",
   "execution_count": 5,
   "id": "76b8a1b8",
   "metadata": {},
   "outputs": [
    {
     "data": {
      "text/plain": [
       "[-34.55231509103923,\n",
       " -84.32554204384303,\n",
       " 43.326482245304895,\n",
       " 51.65424161386407,\n",
       " 46.9280209805625,\n",
       " 41.08091275185684,\n",
       " -84.96186010327578,\n",
       " 5.087570527729352,\n",
       " -86.21937383959555,\n",
       " -25.328397213582534]"
      ]
     },
     "execution_count": 5,
     "metadata": {},
     "output_type": "execute_result"
    }
   ],
   "source": [
    "# Loop to find 10 random latitudes\n",
    "x = 1\n",
    "latitudes = []\n",
    "while x < 11:\n",
    "    random_lat = random.randint(-90, 89) + random.random()\n",
    "    latitudes.append(random_lat)\n",
    "    x += 1\n",
    "    \n",
    "latitudes"
   ]
  },
  {
   "cell_type": "code",
   "execution_count": 6,
   "id": "eb98e4b1",
   "metadata": {},
   "outputs": [
    {
     "data": {
      "text/plain": [
       "30"
      ]
     },
     "execution_count": 6,
     "metadata": {},
     "output_type": "execute_result"
    }
   ],
   "source": [
    "# Use randrange() function\n",
    "random.randrange(-90, 90, step=3)"
   ]
  },
  {
   "cell_type": "code",
   "execution_count": 7,
   "id": "3eace91f",
   "metadata": {},
   "outputs": [
    {
     "data": {
      "text/plain": [
       "22.905203763131638"
      ]
     },
     "execution_count": 7,
     "metadata": {},
     "output_type": "execute_result"
    }
   ],
   "source": [
    "# Use uniform() function\n",
    "random.uniform(-90, 90)"
   ]
  },
  {
   "cell_type": "code",
   "execution_count": 8,
   "id": "23562a0e",
   "metadata": {},
   "outputs": [],
   "source": [
    "# Import the NumPy module.\n",
    "import numpy as np"
   ]
  },
  {
   "cell_type": "code",
   "execution_count": 9,
   "id": "5e2f088e",
   "metadata": {},
   "outputs": [
    {
     "data": {
      "text/plain": [
       "-84.26275963105837"
      ]
     },
     "execution_count": 9,
     "metadata": {},
     "output_type": "execute_result"
    }
   ],
   "source": [
    "# Use NumPy's random module with uniform function\n",
    "np.random.uniform(-90.000, 90.000)"
   ]
  },
  {
   "cell_type": "code",
   "execution_count": 10,
   "id": "596c2013",
   "metadata": {},
   "outputs": [
    {
     "data": {
      "text/plain": [
       "array([-19.40377604,  55.12427362, -14.91670328,  25.91111913,\n",
       "        72.28529941,  57.07306785,  44.87677576, -25.95890382,\n",
       "       -28.72671295,  10.67043091, -60.7354882 , -31.22993912,\n",
       "       -74.17022053,  13.03950839, -46.64569658, -59.61645838,\n",
       "       -31.78214521, -22.45566034,  88.51075569, -48.01003575,\n",
       "        13.03478092, -78.90236618, -65.14102635,  80.49927525,\n",
       "        43.46024337, -37.12769279,   0.73140451,  29.75434435,\n",
       "         3.52542982,  -0.98711783,  70.41328558,   7.47937062,\n",
       "       -61.68310552,  31.90864505,  34.58021575, -84.10167295,\n",
       "        62.7444297 ,  50.59754056,  37.90971257,  89.83165939,\n",
       "        43.61066889,  65.73018054, -69.24151772, -12.81491375,\n",
       "        50.7127766 , -17.37437725,  30.02888727, -21.40865324,\n",
       "       -34.15460484, -37.12154661])"
      ]
     },
     "execution_count": 10,
     "metadata": {},
     "output_type": "execute_result"
    }
   ],
   "source": [
    "# Get an array of 50 random numbers\n",
    "np.random.uniform(-90.000, 90.000, size=50)"
   ]
  },
  {
   "cell_type": "code",
   "execution_count": 11,
   "id": "a8f5842b",
   "metadata": {},
   "outputs": [],
   "source": [
    "# Import timeit.\n",
    "import timeit"
   ]
  },
  {
   "cell_type": "code",
   "execution_count": 12,
   "id": "7c75246f",
   "metadata": {},
   "outputs": [
    {
     "name": "stdout",
     "output_type": "stream",
     "text": [
      "11.8 µs ± 142 ns per loop (mean ± std. dev. of 7 runs, 100000 loops each)\n"
     ]
    }
   ],
   "source": [
    "# Time Numpy random uniform for an array of 1500 random numbers\n",
    "%timeit np.random.uniform(-90.000, 90.000, size=1500)"
   ]
  },
  {
   "cell_type": "code",
   "execution_count": 13,
   "id": "f0309828",
   "metadata": {},
   "outputs": [
    {
     "name": "stdout",
     "output_type": "stream",
     "text": [
      "1.05 ms ± 4.52 µs per loop (mean ± std. dev. of 7 runs, 1000 loops each)\n"
     ]
    }
   ],
   "source": [
    "def latitudes(size):\n",
    "    latitudes = []\n",
    "    x = 0\n",
    "    while x < (size):\n",
    "        random_lat = random.randint(-90, 90) + random.random()\n",
    "        latitudes.append(random_lat)\n",
    "        x += 1\n",
    "    return latitudes\n",
    "# Call the function with 1500.\n",
    "%timeit latitudes(1500)"
   ]
  },
  {
   "cell_type": "code",
   "execution_count": null,
   "id": "af2d27aa",
   "metadata": {},
   "outputs": [],
   "source": []
  }
 ],
 "metadata": {
  "kernelspec": {
   "display_name": "PyData",
   "language": "python",
   "name": "pydata"
  },
  "language_info": {
   "codemirror_mode": {
    "name": "ipython",
    "version": 3
   },
   "file_extension": ".py",
   "mimetype": "text/x-python",
   "name": "python",
   "nbconvert_exporter": "python",
   "pygments_lexer": "ipython3",
   "version": "3.8.3"
  }
 },
 "nbformat": 4,
 "nbformat_minor": 5
}
