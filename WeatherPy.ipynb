{
 "cells": [
  {
   "cell_type": "code",
   "execution_count": 1,
   "id": "a77bce4b",
   "metadata": {},
   "outputs": [],
   "source": [
    "# Import the dependencies.\n",
    "import pandas as pd\n",
    "import matplotlib.pyplot as plt\n",
    "import numpy as np"
   ]
  },
  {
   "cell_type": "code",
   "execution_count": 2,
   "id": "75b118c1",
   "metadata": {},
   "outputs": [
    {
     "data": {
      "text/plain": [
       "<zip at 0x7f946d25da80>"
      ]
     },
     "execution_count": 2,
     "metadata": {},
     "output_type": "execute_result"
    }
   ],
   "source": [
    "# Create a set of random latitude and longitude combinations.\n",
    "lats = np.random.uniform(low=-90.000, high=90.000, size=1500)\n",
    "lngs = np.random.uniform(low=-180.000, high=180.000, size=1500)\n",
    "lat_lngs = zip(lats, lngs)\n",
    "lat_lngs"
   ]
  },
  {
   "cell_type": "code",
   "execution_count": 3,
   "id": "c0ea24eb",
   "metadata": {},
   "outputs": [],
   "source": [
    "# Add the latitudes and longitudes to a list.\n",
    "coordinates = list(lat_lngs)"
   ]
  },
  {
   "cell_type": "code",
   "execution_count": 4,
   "id": "4dcc6f87",
   "metadata": {},
   "outputs": [],
   "source": [
    "from citipy import citipy"
   ]
  },
  {
   "cell_type": "code",
   "execution_count": 5,
   "id": "3ab1d4e8",
   "metadata": {},
   "outputs": [
    {
     "data": {
      "text/plain": [
       "612"
      ]
     },
     "execution_count": 5,
     "metadata": {},
     "output_type": "execute_result"
    }
   ],
   "source": [
    "# Create a list for holding the cities.\n",
    "cities = []\n",
    "# Identify the nearest city for each latitude and longitude combination.\n",
    "for coordinate in coordinates:\n",
    "    city = citipy.nearest_city(coordinate[0], coordinate[1]).city_name\n",
    "\n",
    "    # If the city is unique, then we will add it to the cities list.\n",
    "    if city not in cities:\n",
    "        cities.append(city)\n",
    "# Print the city count to confirm sufficient count.\n",
    "len(cities)"
   ]
  },
  {
   "cell_type": "code",
   "execution_count": 6,
   "id": "626a2cf4",
   "metadata": {},
   "outputs": [
    {
     "name": "stdout",
     "output_type": "stream",
     "text": [
      "['roswell', 'thompson', 'roros', 'taolanaro', 'mar del plata', 'fairbanks', 'bethel', 'chulman', 'katsuura', 'halalo', 'oistins', 'rikitea', 'hobart', 'nikolskoye', 'tromso', 'karratha', 'chagda', 'maraa', 'terney', 'bluff', 'beidao', 'avarua', 'lagoa', 'marawi', 'narsaq', 'jamestown', 'filingue', 'punta arenas', 'mataura', 'gari', 'sehithwa', 'hithadhoo', 'sarangani', 'port alfred', 'bom jesus', 'palabuhanratu', 'dikson', 'saint george', 'lusambo', 'miranorte', 'mackay', 'nanga eboko', 'north bend', 'bonavista', 'vaini', 'bridlington', 'cherskiy', 'khatanga', 'provideniya', 'coihaique', 'victoria', 'azar shahr', 'hilo', 'qaanaaq', 'tura', 'albany', 'barrow', 'khor', 'necochea', 'hermanus', 'kant', 'san patricio', 'ambunti', 'aklavik', 'upernavik', 'chokurdakh', 'alice springs', 'ushuaia', 'arraial do cabo', 'belushya guba', 'vila', 'miri', 'amderma', 'tuktoyaktuk', 'sao gabriel da cachoeira', 'bengkulu', 'kodiak', 'bredasdorp', 'ulladulla', 'poum', 'georgetown', 'toliary', 'tiksi', 'kerrville', 'longyearbyen', 'kirakira', 'new norfolk', 'linjiang', 'cape town', 'glendive', 'millinocket', 'rio gallegos', 'kruisfontein', 'salina cruz', 'dawei', 'shenzhen', 'bell ville', 'cabo san lucas', 'east london', 'puerto ayora', 'saskylakh', 'kapaa', 'pelym', 'cidreira', 'goderich', 'busselton', 'rungata', 'tuni', 'manica', 'husavik', 'mys shmidta', 'carnarvon', 'haines junction', 'dunedin', 'anekal', 'lahore', 'abapo', 'ixtapa', 'takoradi', 'tevaitoa', 'kurilsk', 'matay', 'kadykchan', 'norman wells', 'hovd', 'xinqing', 'kirovskiy', 'longkou', 'esperance', 'castro', 'pisco', 'bakaly', 'menongue', 'atuona', 'mount gambier', 'ahipara', 'saleaula', 'butaritari', 'brownwood', 'at-bashi', 'biltine', 'yellowknife', 'terrace', 'changtu', 'sentyabrskiy', 'henties bay', 'moss vale', 'klaksvik', 'kaitangata', 'labuhan', 'rabat', 'azimur', 'hun', 'murdochville', 'ituporanga', 'khandbari', 'kangaatsiaq', 'kyshtovka', 'port elizabeth', 'kyra', 'taoudenni', 'ponta do sol', 'saravan', 'corinth', 'illoqqortoormiut', 'petropavlovsk-kamchatskiy', 'kashi', 'laguna', 'vilhena', 'am timan', 'kachug', 'vardo', 'pacific grove', 'kathu', 'shirokiy', 'hambantota', 'torbay', 'sokoni', 'sukhobuzimskoye', 'beringovskiy', 'shingu', 'niquelandia', 'avera', 'ribeira grande', 'itacoatiara', 'valmiera', 'rawson', 'mandalgovi', 'tripoli', 'calvinia', 'chukhloma', 'nanortalik', 'ostrovnoy', 'constitucion', 'college', 'innoshima', 'bambous virieux', 'fort saint john', 'raudeberg', 'vestmannaeyjar', 'barentsburg', 'walvis bay', 'louisbourg', 'khani', 'kahului', 'mantua', 'bonnyville', 'egvekinot', 'ayolas', 'mahina', 'havelock', 'dambulla', 'havre-saint-pierre', 'samusu', 'morant bay', 'kiri buru', 'elko', 'los llanos de aridane', 'coahuayana', 'ribeira brava', 'vitoria da conquista', 'lianzhou', 'rocha', 'salvador', 'kalmunai', 'palmer', 'bathsheba', 'namibe', 'nuuk', 'arlit', 'airai', 'capreol', 'bubaque', 'tezu', 'surazh', 'chapais', 'westport', 'la ronge', 'kudahuvadhoo', 'xiangdong', 'lebu', 'muroto', 'sao filipe', 'dingle', 'geraldton', 'churapcha', 'ipixuna', 'vao', 'nago', 'vila do maio', 'ternate', 'faanui', 'saldanha', 'kolokani', 'normandin', 'sao felix do xingu', 'rabak', 'beyneu', 'ekhabi', 'olafsvik', 'vila velha', 'zeya', 'ancud', 'privolzhskiy', 'basay', 'tilichiki', 'bull savanna', 'vityazevo', 'san jose', 'nizhneyansk', 'tecoanapa', 'san cristobal', 'marcona', 'bolivar', 'portland', 'saint-philippe', 'mahebourg', 'san francisco', 'korla', 'taltal', 'black river', 'kargasok', 'umm kaddadah', 'batagay-alyta', 'mrirt', 'hofn', 'wladyslawowo', 'granville', 'kawalu', 'richards bay', 'ngukurr', 'natal', 'peruibe', 'visnes', 'maracacume', 'altay', 'diffa', 'port keats', 'kalemie', 'iguala', 'komsomolskiy', 'ampanihy', 'healesville', 'te anau', 'kingman', 'tomakomai', 'red bluff', 'grand gaube', 'wasilla', 'souillac', 'sabang', 'hasaki', 'talnakh', 'nemuro', 'awbari', 'bolshoye soldatskoye', 'cabra', 'lorengau', 'pevek', 'colomi', 'mitsamiouli', 'mattru', 'kushmurun', 'maksatikha', 'mbandaka', 'jabiru', 'zachagansk', 'palmerston', 'fortuna', 'umzimvubu', 'benguela', 'sur', 'lakes entrance', 'reforma', 'tonota', 'winnemucca', 'half moon bay', 'belaya gora', 'savonlinna', 'nsanje', 'zhigansk', 'tasiilaq', 'broome', 'ewa beach', 'nantucket', 'konongo', 'pierre', 'paranhos', 'shaoxing', 'verkh-usugli', 'oktyabrskiy', 'katherine', 'norrtalje', 'pindi bhattian', 'gat', 'bereda', 'libertador general san martin', 'kamenskoye', 'saint-claude', 'carballo', 'san rafael', 'dicabisagan', 'dwarka', 'etchoropo', 'grand river south east', 'maxixe', 'tautira', 'flinders', 'mount isa', 'noumea', 'kristiansund', 'miraflores', 'iguape', 'port augusta', 'babynino', 'bandarbeyla', 'lolua', 'tombouctou', 'eldorado', 'kieta', 'sitka', 'gamba', 'templin', 'waseca', 'lushoto', 'tsihombe', 'shibetsu', 'ures', 'pouso alegre', 'bukachacha', 'okhotsk', 'port-gentil', 'shimoda', 'la rioja', 'sinnamary', 'qaqortoq', 'price', 'bay roberts', 'atar', 'guanica', 'camana', 'caravelas', 'neryungri', 'tiznit', 'effingham', 'kavieng', 'aksu', 'riverton', 'aykhal', 'riyadh', 'touros', 'praia', 'lutz', 'sorland', 'lavrentiya', 'bermejo', 'la uribe', 'biak', 'iqaluit', 'ilulissat', 'severo-kurilsk', 'grove city', 'quzhou', 'panzhihua', 'odessa', 'da lat', 'lompoc', 'ust-kamchatsk', 'pangnirtung', 'notse', 'lufilufi', 'jardines', 'kenora', 'magdalena', 'nakatsugawa', 'tuy hoa', 'ambilobe', 'tabas', 'attawapiskat', 'novikovo', 'paita', 'conceicao do araguaia', 'gallatin', 'chuy', 'tefe', 'zhezkazgan', 'enshi', 'udachnyy', 'kutum', 'west fargo', 'thaton', 'samarai', 'kavaratti', 'waingapu', 'kamaishi', 'mogadishu', 'narrabri', 'bergen', 'rudbar', 'coquimbo', 'ulety', 'quetigny', 'acapulco', 'hami', 'mutoko', 'ahuimanu', 'santiago', 'huescar', 'mumford', 'omboue', 'alpena', 'gao', 'tingo maria', 'kansanshi', 'zhanaozen', 'hauterive', 'katobu', 'peterhead', 'launceston', 'dinguiraye', 'salinopolis', 'manokwari', 'nouadhibou', 'baoro', 'mangai', 'tuatapere', 'kidal', 'algeciras', 'yaan', 'hohhot', 'supaul', 'kuytun', 'zyryanka', 'green river', 'kibakwe', 'redmond', 'tortoli', 'leh', 'guerrero negro', 'anori', 'jalu', 'bonfim', 'vaitupu', 'bowen', 'inta', 'scarborough', 'todos santos', 'grindavik', 'orsha', 'urumqi', 'yar-sale', 'requena', 'saint-francois', 'bahia blanca', 'silchar', 'luderitz', 'mangan', 'sarrebourg', 'qui nhon', 'mount hagen', 'camacha', 'rock springs', 'madera', 'salalah', 'barao de melgaco', 'hihifo', 'massaguet', 'algiers', 'northam', 'cayenne', 'hokitika', 'margate', 'praia da vitoria', 'athabasca', 'ust-nera', 'cabinda', 'saint-joseph', 'balud', 'synya', 'nahuatzen', 'kukushtan', 'beira', 'port moresby', 'gilbues', 'urengoy', 'broken hill', 'karaul', 'irece', 'pocone', 'puerto madryn', 'birjand', 'songjianghe', 'boddam', 'kuche', 'clyde river', 'cedral', 'san quintin', 'leningradskiy', 'port blair', 'lata', 'evensk', 'hamilton', 'daru', 'ginir', 'olinda', 'padilla', 'maneadero', 'nauta', 'intipuca', 'hue', 'panaba', 'san juan', 'mehamn', 'payo', 'nongan', 'yoichi', 'savalou', 'mahadday weyne', 'kondinskoye', 'port lincoln', 'drovyanaya', 'codrington', 'comodoro rivadavia', 'kaya', 'marsa matruh', 'neiafu', 'bar harbor', 'okahandja', 'gainesville', 'semey', 'grao mogol', 'metro', 'moranbah', 'nishihara', 'axim', 'montevideo', 'bongandanga', 'tyrma', 'san carlos de bariloche', 'san andres', 'padang', 'pasni', 'majene', 'kazalinsk', 'hualmay', 'krasnoselkup', 'camas', 'wexford', 'ambovombe', 'taybad', 'katidtuan', 'chisinau']\n"
     ]
    }
   ],
   "source": [
    "print(cities)"
   ]
  },
  {
   "cell_type": "code",
   "execution_count": null,
   "id": "f83a52dd",
   "metadata": {},
   "outputs": [],
   "source": []
  }
 ],
 "metadata": {
  "kernelspec": {
   "display_name": "PyData",
   "language": "python",
   "name": "pydata"
  },
  "language_info": {
   "codemirror_mode": {
    "name": "ipython",
    "version": 3
   },
   "file_extension": ".py",
   "mimetype": "text/x-python",
   "name": "python",
   "nbconvert_exporter": "python",
   "pygments_lexer": "ipython3",
   "version": "3.8.3"
  }
 },
 "nbformat": 4,
 "nbformat_minor": 5
}
